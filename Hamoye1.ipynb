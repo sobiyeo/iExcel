{
  "cells": [
    {
      "cell_type": "markdown",
      "metadata": {
        "id": "view-in-github",
        "colab_type": "text"
      },
      "source": [
        "<a href=\"https://colab.research.google.com/github/sobiyeo/iExcel/blob/main/Hamoye1.ipynb\" target=\"_parent\"><img src=\"https://colab.research.google.com/assets/colab-badge.svg\" alt=\"Open In Colab\"/></a>"
      ]
    },
    {
      "cell_type": "code",
      "execution_count": null,
      "metadata": {
        "id": "Z6pO6Fyhgq3C"
      },
      "outputs": [],
      "source": [
        "import numpy as np"
      ]
    },
    {
      "cell_type": "code",
      "execution_count": null,
      "metadata": {
        "id": "HlCQMeutmvYT"
      },
      "outputs": [],
      "source": [
        "a = np.array([[1,2,3,4,5],[6,7,8,9,10]])"
      ]
    },
    {
      "cell_type": "code",
      "execution_count": null,
      "metadata": {
        "colab": {
          "base_uri": "https://localhost:8080/"
        },
        "id": "AwfZC4E0n2d9",
        "outputId": "e3a82212-57b4-405b-8a37-cde4cec1ddb4"
      },
      "outputs": [
        {
          "data": {
            "text/plain": [
              "(2, 5)"
            ]
          },
          "execution_count": 4,
          "metadata": {},
          "output_type": "execute_result"
        }
      ],
      "source": [
        "a.shape"
      ]
    },
    {
      "cell_type": "code",
      "execution_count": null,
      "metadata": {
        "colab": {
          "base_uri": "https://localhost:8080/"
        },
        "id": "9bR1AU57n8lH",
        "outputId": "f4872794-c140-493f-fdd7-466ac82df321"
      },
      "outputs": [
        {
          "name": "stdout",
          "output_type": "stream",
          "text": [
            "[[ 1  2  3  4  5]\n",
            " [ 6  7  8  9 10]]\n"
          ]
        }
      ],
      "source": [
        "print(a)"
      ]
    },
    {
      "cell_type": "markdown",
      "metadata": {
        "id": "1lktsCRInxXn"
      },
      "source": [
        "# New Section"
      ]
    },
    {
      "cell_type": "markdown",
      "metadata": {
        "id": "LL01DUwzoTig"
      },
      "source": [
        "Accessing Array items"
      ]
    },
    {
      "cell_type": "code",
      "execution_count": null,
      "metadata": {
        "colab": {
          "base_uri": "https://localhost:8080/"
        },
        "id": "tK89xEGhoJXm",
        "outputId": "e407af78-6d9e-4f3d-ca27-81ce4b1b66f5"
      },
      "outputs": [
        {
          "data": {
            "text/plain": [
              "array([1, 2, 3, 4, 5])"
            ]
          },
          "execution_count": 6,
          "metadata": {},
          "output_type": "execute_result"
        }
      ],
      "source": [
        "a[0]"
      ]
    },
    {
      "cell_type": "code",
      "execution_count": null,
      "metadata": {
        "colab": {
          "base_uri": "https://localhost:8080/"
        },
        "id": "dto992QSo2HA",
        "outputId": "42f0cee9-6322-4a73-ddb3-63f569e9c46c"
      },
      "outputs": [
        {
          "data": {
            "text/plain": [
              "array([ 6,  7,  8,  9, 10])"
            ]
          },
          "execution_count": 7,
          "metadata": {},
          "output_type": "execute_result"
        }
      ],
      "source": [
        "a[1]"
      ]
    },
    {
      "cell_type": "markdown",
      "metadata": {
        "id": "0RmcjNxzpb6m"
      },
      "source": [
        "Multi indexing, Row and item"
      ]
    },
    {
      "cell_type": "code",
      "execution_count": null,
      "metadata": {
        "colab": {
          "base_uri": "https://localhost:8080/"
        },
        "id": "MY14HjyvpbE7",
        "outputId": "22539fc9-7868-42ec-aa31-b14e2bf01aa4"
      },
      "outputs": [
        {
          "data": {
            "text/plain": [
              "5"
            ]
          },
          "execution_count": 8,
          "metadata": {},
          "output_type": "execute_result"
        }
      ],
      "source": [
        "a[0,4]"
      ]
    },
    {
      "cell_type": "code",
      "execution_count": null,
      "metadata": {
        "colab": {
          "base_uri": "https://localhost:8080/"
        },
        "id": "oD2ATUX7pr2b",
        "outputId": "18244770-ac20-4ecb-b35d-14fdfb65a58b"
      },
      "outputs": [
        {
          "data": {
            "text/plain": [
              "9"
            ]
          },
          "execution_count": 9,
          "metadata": {},
          "output_type": "execute_result"
        }
      ],
      "source": [
        "a[1,3]"
      ]
    },
    {
      "cell_type": "markdown",
      "metadata": {
        "id": "pwqFWif2qUDt"
      },
      "source": [
        "Array slicing"
      ]
    },
    {
      "cell_type": "markdown",
      "metadata": {
        "id": "TnJcl5xVqTbj"
      },
      "source": []
    },
    {
      "cell_type": "code",
      "execution_count": null,
      "metadata": {
        "colab": {
          "base_uri": "https://localhost:8080/"
        },
        "id": "Wh1ESQWiqaer",
        "outputId": "cfb66c5b-3cc9-40f1-b4c3-0616bb174ca3"
      },
      "outputs": [
        {
          "data": {
            "text/plain": [
              "array([1, 2, 3])"
            ]
          },
          "execution_count": 10,
          "metadata": {},
          "output_type": "execute_result"
        }
      ],
      "source": [
        "a[0][:3]"
      ]
    },
    {
      "cell_type": "code",
      "execution_count": null,
      "metadata": {
        "colab": {
          "base_uri": "https://localhost:8080/"
        },
        "id": "h4RAcw8_qjCT",
        "outputId": "c51ca52e-7115-4a93-b08f-514f9a207dd3"
      },
      "outputs": [
        {
          "data": {
            "text/plain": [
              "array([6, 7, 8, 9])"
            ]
          },
          "execution_count": 11,
          "metadata": {},
          "output_type": "execute_result"
        }
      ],
      "source": [
        "a[1][:4]"
      ]
    },
    {
      "cell_type": "code",
      "execution_count": null,
      "metadata": {
        "colab": {
          "base_uri": "https://localhost:8080/"
        },
        "id": "t09xhLSJqi0f",
        "outputId": "e3b5e81b-f4e8-42c2-b6b0-986441dd21c8"
      },
      "outputs": [
        {
          "data": {
            "text/plain": [
              "dtype('int64')"
            ]
          },
          "execution_count": 12,
          "metadata": {},
          "output_type": "execute_result"
        }
      ],
      "source": [
        "a.dtype"
      ]
    },
    {
      "cell_type": "markdown",
      "metadata": {
        "id": "ZSxS-GSArXIw"
      },
      "source": [
        "***Note***: In order to change integers to strings or work with strings value in numpy. we add the \"dtype = 'S'\" to the end of the array"
      ]
    },
    {
      "cell_type": "code",
      "execution_count": null,
      "metadata": {
        "id": "otKiuhlWrWpo"
      },
      "outputs": [],
      "source": [
        "c = np.array([[1,2,3,4,5],[6,7,8,9,10]], dtype = 'S')\n"
      ]
    },
    {
      "cell_type": "code",
      "execution_count": null,
      "metadata": {
        "colab": {
          "base_uri": "https://localhost:8080/"
        },
        "id": "3QdRb8TPr5kg",
        "outputId": "4eeabf2f-2755-4a47-d9a8-2ccd50f94e92"
      },
      "outputs": [
        {
          "data": {
            "text/plain": [
              "array([[b'1', b'2', b'3', b'4', b'5'],\n",
              "       [b'6', b'7', b'8', b'9', b'10']], dtype='|S2')"
            ]
          },
          "execution_count": 16,
          "metadata": {},
          "output_type": "execute_result"
        }
      ],
      "source": [
        "c"
      ]
    },
    {
      "cell_type": "code",
      "execution_count": null,
      "metadata": {
        "colab": {
          "base_uri": "https://localhost:8080/"
        },
        "id": "Wi63HFpWsnPa",
        "outputId": "ddc7d32a-2d27-4fc3-8edb-ea44cbcc4eb4"
      },
      "outputs": [
        {
          "data": {
            "text/plain": [
              "(2, 5)"
            ]
          },
          "execution_count": 17,
          "metadata": {},
          "output_type": "execute_result"
        }
      ],
      "source": [
        "c.shape"
      ]
    },
    {
      "cell_type": "code",
      "execution_count": null,
      "metadata": {
        "colab": {
          "base_uri": "https://localhost:8080/"
        },
        "id": "ltryHsi9stXt",
        "outputId": "aa4c825d-44a6-47fc-cabf-2c5fb3e7274a"
      },
      "outputs": [
        {
          "data": {
            "text/plain": [
              "dtype('S2')"
            ]
          },
          "execution_count": 18,
          "metadata": {},
          "output_type": "execute_result"
        }
      ],
      "source": [
        "c.dtype"
      ]
    },
    {
      "cell_type": "markdown",
      "metadata": {
        "id": "-C3Xm4-Et-_9"
      },
      "source": [
        "**Reshaping** **an** **array**"
      ]
    },
    {
      "cell_type": "code",
      "execution_count": null,
      "metadata": {
        "id": "GhIy6NHQuN9w"
      },
      "outputs": [],
      "source": [
        "f = np.array([1,2,3,4,5,6,7,8,9,10,11,12])"
      ]
    },
    {
      "cell_type": "code",
      "execution_count": null,
      "metadata": {
        "id": "vXd_uopJvDHW"
      },
      "outputs": [],
      "source": [
        "g = f.reshape(4,3)"
      ]
    },
    {
      "cell_type": "code",
      "execution_count": null,
      "metadata": {
        "colab": {
          "base_uri": "https://localhost:8080/"
        },
        "id": "8K2GH-ZcvPkw",
        "outputId": "125ec760-3889-4b68-fe43-fe537bb37dde"
      },
      "outputs": [
        {
          "data": {
            "text/plain": [
              "array([ 1,  2,  3,  4,  5,  6,  7,  8,  9, 10, 11, 12])"
            ]
          },
          "execution_count": 22,
          "metadata": {},
          "output_type": "execute_result"
        }
      ],
      "source": [
        "f"
      ]
    },
    {
      "cell_type": "code",
      "execution_count": null,
      "metadata": {
        "colab": {
          "base_uri": "https://localhost:8080/"
        },
        "id": "ng6MQORgvYiZ",
        "outputId": "09e6d238-a4ba-4bbc-abc2-3379605e12aa"
      },
      "outputs": [
        {
          "data": {
            "text/plain": [
              "array([[ 1,  2,  3],\n",
              "       [ 4,  5,  6],\n",
              "       [ 7,  8,  9],\n",
              "       [10, 11, 12]])"
            ]
          },
          "execution_count": 23,
          "metadata": {},
          "output_type": "execute_result"
        }
      ],
      "source": [
        "g"
      ]
    },
    {
      "cell_type": "markdown",
      "metadata": {
        "id": "Gcy_UzoKwYYr"
      },
      "source": [
        "Reshaping into 3D array"
      ]
    },
    {
      "cell_type": "code",
      "execution_count": null,
      "metadata": {
        "id": "OleawfjRwX4H"
      },
      "outputs": [],
      "source": [
        "i = np.array([1,2,3,4,5,6,7,8,9,10,11,12])\n"
      ]
    },
    {
      "cell_type": "code",
      "execution_count": null,
      "metadata": {
        "id": "7UjLJfEMwuLa"
      },
      "outputs": [],
      "source": [
        "u = i.reshape(2,3,)"
      ]
    },
    {
      "cell_type": "code",
      "execution_count": null,
      "metadata": {
        "colab": {
          "background_save": true
        },
        "id": "tMFF977GwtiE",
        "outputId": "bdb348b2-0b1a-4503-e5bc-ab28cf20c2fb"
      },
      "outputs": [
        {
          "data": {
            "text/plain": [
              "array([[[ 1,  2],\n",
              "        [ 3,  4],\n",
              "        [ 5,  6]],\n",
              "\n",
              "       [[ 7,  8],\n",
              "        [ 9, 10],\n",
              "        [11, 12]]])"
            ]
          },
          "execution_count": 26,
          "metadata": {},
          "output_type": "execute_result"
        }
      ],
      "source": []
    },
    {
      "cell_type": "markdown",
      "source": [
        "Using Numpy.Random funtion"
      ],
      "metadata": {
        "id": "X2PiUJ1y1kuB"
      }
    },
    {
      "cell_type": "code",
      "source": [
        "np.random.randint(50)"
      ],
      "metadata": {
        "colab": {
          "base_uri": "https://localhost:8080/"
        },
        "id": "9goGDbqH1OwE",
        "outputId": "3511214f-dc0d-490f-cbab-5421fcba5561"
      },
      "execution_count": 30,
      "outputs": [
        {
          "output_type": "execute_result",
          "data": {
            "text/plain": [
              "40"
            ]
          },
          "metadata": {},
          "execution_count": 30
        }
      ]
    },
    {
      "cell_type": "markdown",
      "source": [
        "To create ramdom array in numpy"
      ],
      "metadata": {
        "id": "eF_bItnQ2M-4"
      }
    },
    {
      "cell_type": "code",
      "source": [
        "np.random.randint(100, size = 5)"
      ],
      "metadata": {
        "colab": {
          "base_uri": "https://localhost:8080/"
        },
        "id": "tu3qG16f2VMd",
        "outputId": "fce54e3d-5a69-4580-9b8e-18e482d8deec"
      },
      "execution_count": 33,
      "outputs": [
        {
          "output_type": "execute_result",
          "data": {
            "text/plain": [
              "array([61,  7, 79, 81,  8])"
            ]
          },
          "metadata": {},
          "execution_count": 33
        }
      ]
    },
    {
      "cell_type": "code",
      "source": [
        "np.random.randint(100, size =(3, 4) )\n"
      ],
      "metadata": {
        "colab": {
          "base_uri": "https://localhost:8080/"
        },
        "id": "GFr07DV522aD",
        "outputId": "ff891804-ba24-4740-c665-8963b3c5c056"
      },
      "execution_count": 34,
      "outputs": [
        {
          "output_type": "execute_result",
          "data": {
            "text/plain": [
              "array([[52, 39, 81, 10],\n",
              "       [57, 98, 35, 80],\n",
              "       [ 5, 27, 92, 76]])"
            ]
          },
          "metadata": {},
          "execution_count": 34
        }
      ]
    },
    {
      "cell_type": "code",
      "source": [
        "np.random.randint(100, size = (3,4,2))\n"
      ],
      "metadata": {
        "colab": {
          "base_uri": "https://localhost:8080/"
        },
        "id": "EtBHQKiA3m2s",
        "outputId": "4fb05433-30a3-4cbe-e778-1283691a1160"
      },
      "execution_count": 35,
      "outputs": [
        {
          "output_type": "execute_result",
          "data": {
            "text/plain": [
              "array([[[ 5, 41],\n",
              "        [51, 26],\n",
              "        [68,  9],\n",
              "        [76, 41]],\n",
              "\n",
              "       [[96, 30],\n",
              "        [37, 56],\n",
              "        [62, 65],\n",
              "        [82, 48]],\n",
              "\n",
              "       [[28, 93],\n",
              "        [28, 14],\n",
              "        [ 3, 67],\n",
              "        [ 7, 75]]])"
            ]
          },
          "metadata": {},
          "execution_count": 35
        }
      ]
    },
    {
      "cell_type": "markdown",
      "source": [
        "However in the case of float or decimsls the size brackets in unneeded"
      ],
      "metadata": {
        "id": "4E62IEpg3zfC"
      }
    },
    {
      "cell_type": "code",
      "source": [
        "np.random.rand(5,2)\n"
      ],
      "metadata": {
        "colab": {
          "base_uri": "https://localhost:8080/"
        },
        "id": "yy8w_Uoy3y-Q",
        "outputId": "a4cef276-1be1-41cf-9059-71227bb26ef2"
      },
      "execution_count": 37,
      "outputs": [
        {
          "output_type": "execute_result",
          "data": {
            "text/plain": [
              "array([[0.92584234, 0.87813844],\n",
              "       [0.93720896, 0.63476179],\n",
              "       [0.86836829, 0.59595705],\n",
              "       [0.33014516, 0.54620964],\n",
              "       [0.52371219, 0.17927095]])"
            ]
          },
          "metadata": {},
          "execution_count": 37
        }
      ]
    },
    {
      "cell_type": "markdown",
      "source": [
        "Random binomial distribution"
      ],
      "metadata": {
        "id": "Dj5azzYJ21zW"
      }
    },
    {
      "cell_type": "code",
      "source": [
        "np.random.binomial(n=5, p=0.5, size =10)"
      ],
      "metadata": {
        "colab": {
          "base_uri": "https://localhost:8080/"
        },
        "id": "GCQ8EMJ2BZH8",
        "outputId": "018e10f1-a881-4856-c62c-b4d95bd83af6"
      },
      "execution_count": 39,
      "outputs": [
        {
          "output_type": "execute_result",
          "data": {
            "text/plain": [
              "array([2, 4, 2, 2, 3, 1, 1, 2, 1, 0])"
            ]
          },
          "metadata": {},
          "execution_count": 39
        }
      ]
    },
    {
      "cell_type": "markdown",
      "source": [
        "where n is no of range wherein items can come, p is probability value and size is the lenght of array"
      ],
      "metadata": {
        "id": "D4lE_ZzHB2uZ"
      }
    },
    {
      "cell_type": "markdown",
      "source": [
        "Matrix operation with numpy"
      ],
      "metadata": {
        "id": "1KxMHsZ4EDBd"
      }
    },
    {
      "cell_type": "code",
      "source": [
        "m = np.array([[1,5,8,9,10], [2,3,4,8,9]])"
      ],
      "metadata": {
        "id": "lAC1O6FZECv8"
      },
      "execution_count": 41,
      "outputs": []
    },
    {
      "cell_type": "code",
      "source": [
        "o = np.array ([[8,9,10,11,7], [7,18,19,18,22]])"
      ],
      "metadata": {
        "id": "f9EZ7XkCE_w1"
      },
      "execution_count": 42,
      "outputs": []
    },
    {
      "cell_type": "code",
      "source": [
        "m.shape\n",
        "o.shape"
      ],
      "metadata": {
        "colab": {
          "base_uri": "https://localhost:8080/"
        },
        "id": "LtMg_aUEFSG0",
        "outputId": "dca66b39-f401-41d6-8c8f-7f81220551f0"
      },
      "execution_count": 43,
      "outputs": [
        {
          "output_type": "execute_result",
          "data": {
            "text/plain": [
              "(2, 5)"
            ]
          },
          "metadata": {},
          "execution_count": 43
        }
      ]
    },
    {
      "cell_type": "code",
      "source": [
        "m*o"
      ],
      "metadata": {
        "colab": {
          "base_uri": "https://localhost:8080/"
        },
        "id": "zlVJW3d9E_J3",
        "outputId": "6ec69823-a954-43d7-e3ad-de0de2143b39"
      },
      "execution_count": 44,
      "outputs": [
        {
          "output_type": "execute_result",
          "data": {
            "text/plain": [
              "array([[  8,  45,  80,  99,  70],\n",
              "       [ 14,  54,  76, 144, 198]])"
            ]
          },
          "metadata": {},
          "execution_count": 44
        }
      ]
    },
    {
      "cell_type": "code",
      "source": [
        "m+o"
      ],
      "metadata": {
        "colab": {
          "base_uri": "https://localhost:8080/"
        },
        "id": "sj_a3eM-Fgmz",
        "outputId": "ca424b32-6280-4560-9f18-328da04a2d54"
      },
      "execution_count": 45,
      "outputs": [
        {
          "output_type": "execute_result",
          "data": {
            "text/plain": [
              "array([[ 9, 14, 18, 20, 17],\n",
              "       [ 9, 21, 23, 26, 31]])"
            ]
          },
          "metadata": {},
          "execution_count": 45
        }
      ]
    }
  ],
  "metadata": {
    "colab": {
      "provenance": [],
      "authorship_tag": "ABX9TyMFTc+IvNXMLOPF5+ZRgIii",
      "include_colab_link": true
    },
    "kernelspec": {
      "display_name": "Python 3",
      "name": "python3"
    },
    "language_info": {
      "name": "python"
    }
  },
  "nbformat": 4,
  "nbformat_minor": 0
}